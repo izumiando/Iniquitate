{
 "cells": [
  {
   "cell_type": "markdown",
   "id": "3f4f1b19-5369-4e4d-9366-b6f07f88b402",
   "metadata": {},
   "source": [
    "# Transferring Labels Using UCE\n",
    "\n",
    "This notebook walks through the example from Figure 4d,4e of transferring labels from mouse kidney norn cells to a human lung disease dataset.\n",
    "\n",
    "To transfer labels, we use a basic default implementation of sklearn's logistic classifier."
   ]
  },
  {
   "cell_type": "code",
   "execution_count": 1,
   "id": "5ca49083-fd91-473f-b60a-621b07d52de2",
   "metadata": {},
   "outputs": [],
   "source": [
    "## Imports\n",
    "import scanpy as sc\n",
    "import numpy as np\n",
    "import random\n",
    "from sklearn.linear_model import LogisticRegression\n",
    "sc._settings.settings._vector_friendly=True\n",
    "import matplotlib\n",
    "import matplotlib.pyplot as plt\n",
    "\n",
    "## Seed\n",
    "np.random.seed(0)\n",
    "random.seed(0)"
   ]
  },
  {
   "cell_type": "markdown",
   "id": "72536f9e-b010-44a7-b323-c32f05cf7d98",
   "metadata": {},
   "source": [
    "## Load in anndatas\n",
    "You can download the anndatas here: https://drive.google.com/drive/folders/1f63fh0ykgEhCrkd_EVvIootBw7LYDVI7"
   ]
  },
  {
   "cell_type": "code",
   "execution_count": 2,
   "id": "8e5d7a7e-2a86-4fce-82fe-17afcf83dec5",
   "metadata": {},
   "outputs": [],
   "source": [
    "epo_uce = sc.read(\"mouse_kidney_norn.h5ad\")\n",
    "kam_20_uce = sc.read(\"human_lung_disease.h5ad\")"
   ]
  },
  {
   "cell_type": "markdown",
   "id": "dcbf764a-ad99-4622-a780-ecd62e471132",
   "metadata": {},
   "source": [
    "### Train Classifier on Mouse Kidney Cells\n",
    "\n",
    "We train a classifier to predict coarsened cell types, from the UCE embeddings"
   ]
  },
  {
   "cell_type": "code",
   "execution_count": 3,
   "id": "9e56e9aa-bf4a-42d9-b8a6-e76833161083",
   "metadata": {},
   "outputs": [],
   "source": [
    "epo_map = {\n",
    "    \"Norn\":\"Norn\",\n",
    "    \"Proximal tubule\":\"Proximal tubule\",\n",
    "    \"Collecting duct principal\":\"Collecting duct\",\n",
    "    \"Distal convoluted tubule\":\"Distal convoluted tubule\",\n",
    "    \"Fibroblasts\":\"Fibroblast\",\n",
    "    \"Endothelial\":\"Endothelial\",\n",
    "    \"Collecting duct transient\":\"Collecting duct\",\n",
    "    \"Other\":\"misc\",\n",
    "    \"Pericyte Ren1+\":\"Pericyte\",\n",
    "    \"Podocytes\":\"Podocyte\",\n",
    "    \"Pericyte3\":\"Pericyte\",\n",
    "    \"Pericyte1\":\"Pericyte\",\n",
    "    \"Pericyte2\":\"Pericyte\",\n",
    "    \"Collecting duct intercalated\":\"Collecting duct\",\n",
    "    \"Loop of henle\":\"Loop of henle\",\n",
    "    \"Proximal tubule2\":\"Proximal tubule\",\n",
    "    \"Macrophages\":\"Macrophage\",\n",
    "    \"Neutrophil\":\"Granulocyte\",\n",
    "    \"T lymphocyte\":\"T cell\",\n",
    "    \"Collecting duct\":\"Collecting duct\",\n",
    "    \"Monocytes\":\"Monocyte\",\n",
    "    \n",
    "} # coarse cell type map"
   ]
  },
  {
   "cell_type": "code",
   "execution_count": 4,
   "id": "39b160cd-4462-437f-b89e-7363e20e8ebe",
   "metadata": {},
   "outputs": [],
   "source": [
    "epo_uce_no_misc = epo_uce[epo_uce.obs.group != \"Other\"] # remove misc cells\n",
    "X = epo_uce_no_misc.obsm[\"X_uce\"] # input is UCE embeddings\n",
    "y = [epo_map[ct] for ct in epo_uce_no_misc.obs[\"group\"].values] # output is mapped cell types\n",
    "clf = LogisticRegression(random_state=0).fit(X, y) # fit classifier"
   ]
  },
  {
   "cell_type": "markdown",
   "id": "ae2fd8b6-e681-4f02-9f9c-71d71d95f925",
   "metadata": {},
   "source": [
    "### Predict norn-like cells using classifier"
   ]
  },
  {
   "cell_type": "code",
   "execution_count": 5,
   "id": "722bcc74-aaca-43f9-b5dd-2427584d7683",
   "metadata": {},
   "outputs": [],
   "source": [
    "kam_20_uce.obs[\"pred\"] = clf.predict(kam_20_uce.obsm[\"X_uce\"]) # predict cell types for lung disease dataset"
   ]
  },
  {
   "cell_type": "code",
   "execution_count": 6,
   "id": "ae31d2c0-5987-46c1-9be0-d874ae6577b5",
   "metadata": {},
   "outputs": [
    {
     "data": {
      "text/plain": [
       "pred\n",
       "Proximal tubule    119834\n",
       "T cell              93556\n",
       "Granulocyte         52485\n",
       "Collecting duct     15727\n",
       "Macrophage          11800\n",
       "Endothelial          7233\n",
       "Norn                 6005\n",
       "Podocyte             4270\n",
       "Pericyte             1316\n",
       "Fibroblast            623\n",
       "Monocyte               56\n",
       "Loop of henle          23\n",
       "Name: count, dtype: int64"
      ]
     },
     "execution_count": 6,
     "metadata": {},
     "output_type": "execute_result"
    }
   ],
   "source": [
    "kam_20_uce.obs[\"pred\"].value_counts()"
   ]
  },
  {
   "cell_type": "markdown",
   "id": "23a839f8-88ce-4446-b4a5-961a38a264b5",
   "metadata": {},
   "source": [
    "# Check Differential Expression"
   ]
  },
  {
   "cell_type": "code",
   "execution_count": 7,
   "id": "159cc172-1be5-4ad2-a4b5-2ebd2e52302e",
   "metadata": {},
   "outputs": [],
   "source": [
    "# Preproccess Count Values\n",
    "sc.pp.highly_variable_genes(kam_20_uce, n_top_genes=8000, flavor=\"seurat_v3\", subset=True)\n",
    "sc.pp.normalize_per_cell(kam_20_uce)\n",
    "sc.pp.log1p(kam_20_uce)"
   ]
  },
  {
   "cell_type": "code",
   "execution_count": 8,
   "id": "57b9fb8a-2699-43f4-b74f-2a646e8610c8",
   "metadata": {},
   "outputs": [],
   "source": [
    "# Subset to predicted Norn-like cells\n",
    "kam20_norn_ad = kam_20_uce[kam_20_uce.obs.pred == \"Norn\"].copy()"
   ]
  },
  {
   "cell_type": "code",
   "execution_count": 9,
   "id": "591d1aa7-c4ad-4ad9-9bef-2ed91ed19b57",
   "metadata": {},
   "outputs": [],
   "source": [
    "all_de_dfs = {}\n",
    "ngenes = 4"
   ]
  },
  {
   "cell_type": "code",
   "execution_count": 10,
   "id": "bb5bc067-c588-4a34-a8f3-138824531828",
   "metadata": {},
   "outputs": [],
   "source": [
    "sc.tl.rank_genes_groups(kam20_norn_ad, groupby=\"Disease_Identity\", use_raw=False, reference=\"Control\") # DE, diseases vs control"
   ]
  },
  {
   "cell_type": "code",
   "execution_count": 11,
   "id": "db176232-0dee-4c1a-bda2-38a19a7afcdd",
   "metadata": {},
   "outputs": [],
   "source": [
    "de_df = sc.get.rank_genes_groups_df(kam20_norn_ad, group=\"COPD\") # get COPD vs control results\n",
    "all_de_dfs[\"copd_vs_control\"] = de_df[~de_df.index.isin(de_df.iloc[10:-10].index)] # top 10 and bottom 10 genes\n",
    "copd_control_genes = list(de_df.head(ngenes)[\"names\"].values)"
   ]
  },
  {
   "cell_type": "code",
   "execution_count": 12,
   "id": "c4d25f7a-4056-4e03-bcd1-9ab9cb2705e6",
   "metadata": {},
   "outputs": [],
   "source": [
    "de_df = sc.get.rank_genes_groups_df(kam20_norn_ad, group=\"IPF\") # get IPF vs control results\n",
    "all_de_dfs[\"ipf_vs_control\"] = de_df[~de_df.index.isin(de_df.iloc[10:-10].index)] # top 10 and bottom 10 genes\n",
    "ipf_control_genes = list(de_df.head(ngenes)[\"names\"].values)"
   ]
  },
  {
   "cell_type": "code",
   "execution_count": 13,
   "id": "4e72311d-44ee-4ca5-8abc-24e9079b574b",
   "metadata": {},
   "outputs": [],
   "source": [
    "sc.tl.rank_genes_groups(kam20_norn_ad, groupby=\"Disease_Identity\", use_raw=False, reference=\"IPF\") # DE, all vs IPF"
   ]
  },
  {
   "cell_type": "code",
   "execution_count": 14,
   "id": "69be495e-3b0f-41f3-95d8-47a526f00bbd",
   "metadata": {},
   "outputs": [],
   "source": [
    "de_df = sc.get.rank_genes_groups_df(kam20_norn_ad, group=\"COPD\") # COPD vs IPF\n",
    "all_de_dfs[\"copd_vs_ipf\"] = de_df[~de_df.index.isin(de_df.iloc[10:-10].index)] # top 10 and bottom 10 genes\n",
    "copd_ipf_genes = list(de_df.head(ngenes)[\"names\"].values)"
   ]
  },
  {
   "cell_type": "code",
   "execution_count": 15,
   "id": "db9e2358-7431-49df-a980-ff4869d824d4",
   "metadata": {},
   "outputs": [],
   "source": [
    "sc.tl.rank_genes_groups(kam20_norn_ad, groupby=\"Disease_Identity\", use_raw=False, reference=\"COPD\") # DE, all vs COPD"
   ]
  },
  {
   "cell_type": "code",
   "execution_count": 16,
   "id": "753b9891-f940-46b7-9fa2-8972b6f67136",
   "metadata": {},
   "outputs": [],
   "source": [
    "de_df = sc.get.rank_genes_groups_df(kam20_norn_ad, group=\"IPF\") # IPF vs COPD\n",
    "all_de_dfs[\"ipf_vs_copd\"] = de_df[~de_df.index.isin(de_df.iloc[10:-10].index)] # top 10 and bottom 10 genes\n",
    "ipf_copd_genes = list(de_df.head(ngenes)[\"names\"].values)"
   ]
  },
  {
   "cell_type": "code",
   "execution_count": 17,
   "id": "647407f4-c9ef-405e-9742-342e31664497",
   "metadata": {},
   "outputs": [
    {
     "data": {
      "text/plain": [
       "['POSTN',\n",
       " 'COL1A1',\n",
       " 'COL3A1',\n",
       " 'SPARC',\n",
       " 'LUM',\n",
       " 'MFAP4',\n",
       " 'PTGDS',\n",
       " 'PTPRG',\n",
       " 'GPX3',\n",
       " 'NAMPT',\n",
       " 'RPL41',\n",
       " 'CRISPLD2',\n",
       " 'SERPINH1',\n",
       " 'COL1A2']"
      ]
     },
     "execution_count": 17,
     "metadata": {},
     "output_type": "execute_result"
    }
   ],
   "source": [
    "gene_list = ipf_control_genes + copd_control_genes + copd_ipf_genes + ipf_copd_genes\n",
    "\n",
    "reduced_gene_list = []\n",
    "for g in gene_list:\n",
    "    if g in reduced_gene_list:\n",
    "        next\n",
    "    else:\n",
    "        reduced_gene_list.append(g)\n",
    "reduced_gene_list"
   ]
  },
  {
   "cell_type": "markdown",
   "id": "c2abdd88-2f7b-4ac4-961a-ea417f85bb04",
   "metadata": {},
   "source": [
    "## Plot Results"
   ]
  },
  {
   "cell_type": "code",
   "execution_count": 18,
   "id": "f11581f2-2895-419e-85da-0f53c07756ec",
   "metadata": {},
   "outputs": [
    {
     "data": {
      "image/png": "[encoded data removed]",
      "text/plain": [
       "<Figure size 500x500 with 5 Axes>"
      ]
     },
     "metadata": {},
     "output_type": "display_data"
    }
   ],
   "source": [
    "fig, ax = plt.subplots(1,1, figsize=(5, 5))\n",
    "sc.pl.dotplot(kam20_norn_ad, groupby=\"Disease_Identity\", var_names=reduced_gene_list, show=True, swap_axes=True, ax=ax)"
   ]
  }
 ],
 "metadata": {
  "kernelspec": {
   "display_name": "Python 3 (ipykernel)",
   "language": "python",
   "name": "python3"
  },
  "language_info": {
   "codemirror_mode": {
    "name": "ipython",
    "version": 3
   },
   "file_extension": ".py",
   "mimetype": "text/x-python",
   "name": "python",
   "nbconvert_exporter": "python",
   "pygments_lexer": "ipython3",
   "version": "3.11.7"
  }
 },
 "nbformat": 4,
 "nbformat_minor": 5
}
